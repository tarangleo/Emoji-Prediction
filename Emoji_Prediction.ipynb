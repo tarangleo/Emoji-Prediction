{
 "cells": [
  {
   "cell_type": "code",
   "execution_count": 76,
   "id": "da21b94b-ae38-4dda-bf3f-3c34d6abe1b5",
   "metadata": {},
   "outputs": [],
   "source": [
    "import emoji\n"
   ]
  },
  {
   "cell_type": "code",
   "execution_count": 77,
   "id": "59e93f8c-3c3a-4a61-a25d-9c2c7b94736a",
   "metadata": {},
   "outputs": [],
   "source": [
    "#emoji dictionary\n",
    "emoji_dict={\n",
    "            \"0\":\":\\u2764\\uFE0F:\",\n",
    "            \"1\":\":baseball:\",\n",
    "            \"2\":\":grinning_face_with_big_eyes:\",\n",
    "            \"3\":\":disappointed_face:\",\n",
    "            \"4\":\":fork_and_knife:\"\n",
    "             }\n"
   ]
  },
  {
   "cell_type": "markdown",
   "id": "788ce5ae-5436-4744-b9b8-7569f64a792f",
   "metadata": {},
   "source": [
    "## LOading DATa"
   ]
  },
  {
   "cell_type": "code",
   "execution_count": 78,
   "id": "1121ce6d-c1d9-4b7c-83e4-4886c4a36dbd",
   "metadata": {},
   "outputs": [],
   "source": [
    "import pandas as pd\n",
    "import numpy as np"
   ]
  },
  {
   "cell_type": "code",
   "execution_count": 79,
   "id": "55ecf1e9-0272-48db-9fd1-d4922ff1790d",
   "metadata": {},
   "outputs": [],
   "source": [
    "train=pd.read_csv(\"train_emoji.csv\",header=None)\n",
    "test=pd.read_csv(\"test_emoji.csv\",header=None)"
   ]
  },
  {
   "cell_type": "code",
   "execution_count": 80,
   "id": "a1d83f5a-5bef-4812-8409-5144a0292096",
   "metadata": {},
   "outputs": [],
   "source": [
    "x_train=train[0]\n",
    "y_train=train[1]\n",
    "\n",
    "x_test=test[0]\n",
    "y_test=test[1]"
   ]
  },
  {
   "cell_type": "code",
   "execution_count": 81,
   "id": "f7e84501-06a8-44d7-91cf-448d154a3b5c",
   "metadata": {},
   "outputs": [
    {
     "name": "stdout",
     "output_type": "stream",
     "text": [
      "never talk to me again 😞\n",
      "I am proud of your achievements 😃\n",
      "It is the worst day in my life 😞\n",
      "Miss you so much :❤️:\n",
      "food is life 🍴\n"
     ]
    }
   ],
   "source": [
    "for i in range(5):\n",
    "    print(x_train[i],emoji.emojize(emoji_dict[str(y_train[i])]))"
   ]
  },
  {
   "cell_type": "markdown",
   "id": "742198b7-2889-434c-a844-f99dbf58b613",
   "metadata": {},
   "source": [
    "## loading Embedding Data"
   ]
  },
  {
   "cell_type": "code",
   "execution_count": 82,
   "id": "c5f36f5c-9cb6-444b-ab07-a1c4579711bf",
   "metadata": {},
   "outputs": [],
   "source": [
    "f=open(\"glove.6B.50d.txt\",encoding=\"UTF-8\")"
   ]
  },
  {
   "cell_type": "code",
   "execution_count": 83,
   "id": "8387cad9-587d-41b8-aa27-62f87e3210b5",
   "metadata": {},
   "outputs": [],
   "source": [
    "embeddings={}  #diction of embedded data words of around 6 billion words\n",
    "\n",
    "\n",
    "for i in f:\n",
    "    values=i.split()\n",
    "    word=values[0]\n",
    "    coeff=np.asarray(values[1:],dtype=\"float\")\n",
    "    #print(word,coeff)\n",
    "    embeddings[word]=coeff\n",
    "    \n",
    "f.close()"
   ]
  },
  {
   "cell_type": "code",
   "execution_count": null,
   "id": "8c5e22fc-85aa-435e-9580-d654a2af8bae",
   "metadata": {},
   "outputs": [],
   "source": []
  },
  {
   "cell_type": "code",
   "execution_count": 84,
   "id": "ffec0c88-8cf5-4cea-9e8c-d02f29cc6b1e",
   "metadata": {},
   "outputs": [
    {
     "name": "stderr",
     "output_type": "stream",
     "text": [
      "C:\\Users\\taran\\AppData\\Local\\Temp/ipykernel_25508/2307853384.py:6: SettingWithCopyWarning: \n",
      "A value is trying to be set on a copy of a slice from a DataFrame\n",
      "\n",
      "See the caveats in the documentation: https://pandas.pydata.org/pandas-docs/stable/user_guide/indexing.html#returning-a-view-versus-a-copy\n",
      "  X[i]=X[i].split()\n"
     ]
    }
   ],
   "source": [
    "def embeddings_outputs(X):\n",
    "    max_length=10\n",
    "    embeddings_out=np.zeros((X.shape[0],max_length,50))\n",
    "    \n",
    "    for i in range(X.shape[0]):\n",
    "        X[i]=X[i].split()\n",
    "        \n",
    "        for j in range(len(X[i])):\n",
    "            try:\n",
    "                embeddings_out[i][j]=embeddings[X[i][j].lower()]\n",
    "            except:\n",
    "                 embeddings_out[i][j]=np.zeros((50,))\n",
    "    \n",
    "    return embeddings_out\n",
    "    \n",
    "embeddings_matrix_train=embeddings_outputs(x_train)\n",
    "embeddings_matrix_test=embeddings_outputs(x_test)\n"
   ]
  },
  {
   "cell_type": "markdown",
   "id": "d6d4f80a-fe72-4153-9db1-ded8103123aa",
   "metadata": {},
   "source": [
    "## Building Model"
   ]
  },
  {
   "cell_type": "code",
   "execution_count": 85,
   "id": "977e4c0d-8ae0-475b-ad6a-7b3c96f85f6c",
   "metadata": {},
   "outputs": [],
   "source": [
    "from tensorflow.keras.utils import to_categorical"
   ]
  },
  {
   "cell_type": "code",
   "execution_count": 86,
   "id": "b56f8c31-2c65-4fe1-b2e4-9b886dfc4d1e",
   "metadata": {},
   "outputs": [],
   "source": [
    "y_train=to_categorical(y_train,num_classes=5)\n",
    "y_test=to_categorical(y_test,num_classes=5)"
   ]
  },
  {
   "cell_type": "code",
   "execution_count": null,
   "id": "d91a451a-d402-4af9-9d86-fca6a587c94f",
   "metadata": {},
   "outputs": [],
   "source": []
  },
  {
   "cell_type": "code",
   "execution_count": 87,
   "id": "428cbbe3-91b9-455b-9f94-6684c21cdf8e",
   "metadata": {},
   "outputs": [],
   "source": [
    "from keras.models import Sequential\n",
    "from keras.layers import *"
   ]
  },
  {
   "cell_type": "code",
   "execution_count": 88,
   "id": "c569b545-a2e0-4c0c-9620-61d64e6ebcca",
   "metadata": {},
   "outputs": [
    {
     "name": "stdout",
     "output_type": "stream",
     "text": [
      "Model: \"sequential_7\"\n",
      "_________________________________________________________________\n",
      " Layer (type)                Output Shape              Param #   \n",
      "=================================================================\n",
      " lstm_9 (LSTM)               (None, 10, 64)            29440     \n",
      "                                                                 \n",
      " dropout_8 (Dropout)         (None, 10, 64)            0         \n",
      "                                                                 \n",
      " lstm_10 (LSTM)              (None, 64)                33024     \n",
      "                                                                 \n",
      " dropout_9 (Dropout)         (None, 64)                0         \n",
      "                                                                 \n",
      " dense_6 (Dense)             (None, 5)                 325       \n",
      "                                                                 \n",
      " activation_6 (Activation)   (None, 5)                 0         \n",
      "                                                                 \n",
      "=================================================================\n",
      "Total params: 62,789\n",
      "Trainable params: 62,789\n",
      "Non-trainable params: 0\n",
      "_________________________________________________________________\n"
     ]
    }
   ],
   "source": [
    "model=Sequential()\n",
    "model.add(LSTM(64,input_shape=(10,50),return_sequences=True))\n",
    "model.add(Dropout(0.5))\n",
    "model.add(LSTM(64,return_sequences=False))\n",
    "model.add(Dropout(0.5))\n",
    "model.add(Dense(5))\n",
    "model.add(Activation(\"softmax\"))\n",
    "model.compile(loss=\"categorical_crossentropy\",optimizer=\"adam\",metrics=[\"accuracy\"])\n",
    "model.summary()\n"
   ]
  },
  {
   "cell_type": "code",
   "execution_count": 89,
   "id": "5d7c9b33-0f11-4dc6-a81e-d605f4d960d3",
   "metadata": {},
   "outputs": [
    {
     "name": "stdout",
     "output_type": "stream",
     "text": [
      "Epoch 1/94\n",
      "2/2 [==============================] - 3s 691ms/step - loss: 1.6269 - accuracy: 0.1524 - val_loss: 1.6108 - val_accuracy: 0.2222\n",
      "Epoch 2/94\n",
      "2/2 [==============================] - 0s 33ms/step - loss: 1.5773 - accuracy: 0.3619 - val_loss: 1.6175 - val_accuracy: 0.2222\n",
      "Epoch 3/94\n",
      "2/2 [==============================] - 0s 40ms/step - loss: 1.5368 - accuracy: 0.4000 - val_loss: 1.6292 - val_accuracy: 0.1852\n",
      "Epoch 4/94\n",
      "2/2 [==============================] - 0s 35ms/step - loss: 1.5203 - accuracy: 0.3429 - val_loss: 1.6462 - val_accuracy: 0.2593\n",
      "Epoch 5/94\n",
      "2/2 [==============================] - 0s 35ms/step - loss: 1.4870 - accuracy: 0.3619 - val_loss: 1.6622 - val_accuracy: 0.2593\n",
      "Epoch 6/94\n",
      "2/2 [==============================] - 0s 33ms/step - loss: 1.4931 - accuracy: 0.3524 - val_loss: 1.6624 - val_accuracy: 0.2963\n",
      "Epoch 7/94\n",
      "2/2 [==============================] - 0s 33ms/step - loss: 1.4421 - accuracy: 0.3619 - val_loss: 1.6437 - val_accuracy: 0.2593\n",
      "Epoch 8/94\n",
      "2/2 [==============================] - 0s 37ms/step - loss: 1.4526 - accuracy: 0.4095 - val_loss: 1.6167 - val_accuracy: 0.2222\n",
      "Epoch 9/94\n",
      "2/2 [==============================] - 0s 33ms/step - loss: 1.3959 - accuracy: 0.4571 - val_loss: 1.5886 - val_accuracy: 0.2222\n",
      "Epoch 10/94\n",
      "2/2 [==============================] - 0s 31ms/step - loss: 1.3733 - accuracy: 0.4571 - val_loss: 1.5513 - val_accuracy: 0.2593\n",
      "Epoch 11/94\n",
      "2/2 [==============================] - 0s 33ms/step - loss: 1.3600 - accuracy: 0.4381 - val_loss: 1.5127 - val_accuracy: 0.3333\n",
      "Epoch 12/94\n",
      "2/2 [==============================] - 0s 33ms/step - loss: 1.3168 - accuracy: 0.4857 - val_loss: 1.4664 - val_accuracy: 0.3333\n",
      "Epoch 13/94\n",
      "2/2 [==============================] - 0s 32ms/step - loss: 1.2621 - accuracy: 0.5048 - val_loss: 1.4260 - val_accuracy: 0.3333\n",
      "Epoch 14/94\n",
      "2/2 [==============================] - 0s 42ms/step - loss: 1.2332 - accuracy: 0.5333 - val_loss: 1.3847 - val_accuracy: 0.3333\n",
      "Epoch 15/94\n",
      "2/2 [==============================] - 0s 36ms/step - loss: 1.1788 - accuracy: 0.5143 - val_loss: 1.3452 - val_accuracy: 0.4074\n",
      "Epoch 16/94\n",
      "2/2 [==============================] - 0s 35ms/step - loss: 1.1549 - accuracy: 0.5905 - val_loss: 1.2938 - val_accuracy: 0.4444\n",
      "Epoch 17/94\n",
      "2/2 [==============================] - 0s 37ms/step - loss: 1.0807 - accuracy: 0.6190 - val_loss: 1.2863 - val_accuracy: 0.4074\n",
      "Epoch 18/94\n",
      "2/2 [==============================] - 0s 59ms/step - loss: 1.0275 - accuracy: 0.6190 - val_loss: 1.2971 - val_accuracy: 0.4444\n",
      "Epoch 19/94\n",
      "2/2 [==============================] - 0s 36ms/step - loss: 0.9861 - accuracy: 0.6476 - val_loss: 1.2758 - val_accuracy: 0.4444\n",
      "Epoch 20/94\n",
      "2/2 [==============================] - 0s 38ms/step - loss: 0.8896 - accuracy: 0.7143 - val_loss: 1.2281 - val_accuracy: 0.4444\n",
      "Epoch 21/94\n",
      "2/2 [==============================] - 0s 42ms/step - loss: 0.8523 - accuracy: 0.7238 - val_loss: 1.1975 - val_accuracy: 0.5185\n",
      "Epoch 22/94\n",
      "2/2 [==============================] - 0s 42ms/step - loss: 0.7675 - accuracy: 0.7619 - val_loss: 1.1809 - val_accuracy: 0.5185\n",
      "Epoch 23/94\n",
      "2/2 [==============================] - 0s 42ms/step - loss: 0.7355 - accuracy: 0.7524 - val_loss: 1.2440 - val_accuracy: 0.4815\n",
      "Epoch 24/94\n",
      "2/2 [==============================] - 0s 37ms/step - loss: 0.7239 - accuracy: 0.7714 - val_loss: 1.1864 - val_accuracy: 0.5185\n",
      "Epoch 25/94\n",
      "2/2 [==============================] - 0s 33ms/step - loss: 0.5817 - accuracy: 0.8381 - val_loss: 1.0709 - val_accuracy: 0.5185\n",
      "Epoch 26/94\n",
      "2/2 [==============================] - 0s 31ms/step - loss: 0.5823 - accuracy: 0.8476 - val_loss: 1.0503 - val_accuracy: 0.5926\n",
      "Epoch 27/94\n",
      "2/2 [==============================] - 0s 36ms/step - loss: 0.5394 - accuracy: 0.8667 - val_loss: 1.0521 - val_accuracy: 0.6296\n",
      "Epoch 28/94\n",
      "2/2 [==============================] - 0s 35ms/step - loss: 0.5643 - accuracy: 0.8476 - val_loss: 1.0597 - val_accuracy: 0.5926\n",
      "Epoch 29/94\n",
      "2/2 [==============================] - 0s 37ms/step - loss: 0.5151 - accuracy: 0.8762 - val_loss: 1.1642 - val_accuracy: 0.6667\n",
      "Epoch 30/94\n",
      "2/2 [==============================] - 0s 38ms/step - loss: 0.4508 - accuracy: 0.8857 - val_loss: 1.0866 - val_accuracy: 0.6667\n",
      "Epoch 31/94\n",
      "2/2 [==============================] - 0s 32ms/step - loss: 0.3673 - accuracy: 0.9048 - val_loss: 1.0922 - val_accuracy: 0.7037\n",
      "Epoch 32/94\n",
      "2/2 [==============================] - 0s 35ms/step - loss: 0.3362 - accuracy: 0.9238 - val_loss: 1.1042 - val_accuracy: 0.6667\n",
      "Epoch 33/94\n",
      "2/2 [==============================] - 0s 36ms/step - loss: 0.2778 - accuracy: 0.9524 - val_loss: 1.1135 - val_accuracy: 0.6296\n",
      "Epoch 34/94\n",
      "2/2 [==============================] - 0s 35ms/step - loss: 0.3774 - accuracy: 0.8857 - val_loss: 1.1629 - val_accuracy: 0.6667\n",
      "Epoch 35/94\n",
      "2/2 [==============================] - 0s 35ms/step - loss: 0.3219 - accuracy: 0.9048 - val_loss: 1.2156 - val_accuracy: 0.6296\n",
      "Epoch 36/94\n",
      "2/2 [==============================] - 0s 38ms/step - loss: 0.2650 - accuracy: 0.9238 - val_loss: 1.3875 - val_accuracy: 0.6296\n",
      "Epoch 37/94\n",
      "2/2 [==============================] - 0s 35ms/step - loss: 0.2444 - accuracy: 0.9143 - val_loss: 1.2101 - val_accuracy: 0.6667\n",
      "Epoch 38/94\n",
      "2/2 [==============================] - 0s 37ms/step - loss: 0.2061 - accuracy: 0.9429 - val_loss: 1.2026 - val_accuracy: 0.6667\n",
      "Epoch 39/94\n",
      "2/2 [==============================] - 0s 34ms/step - loss: 0.3368 - accuracy: 0.9048 - val_loss: 1.1733 - val_accuracy: 0.6667\n",
      "Epoch 40/94\n",
      "2/2 [==============================] - 0s 37ms/step - loss: 0.1983 - accuracy: 0.9524 - val_loss: 1.4084 - val_accuracy: 0.5926\n",
      "Epoch 41/94\n",
      "2/2 [==============================] - 0s 35ms/step - loss: 0.2955 - accuracy: 0.9048 - val_loss: 1.3589 - val_accuracy: 0.6296\n",
      "Epoch 42/94\n",
      "2/2 [==============================] - 0s 57ms/step - loss: 0.1804 - accuracy: 0.9524 - val_loss: 1.4206 - val_accuracy: 0.5556\n",
      "Epoch 43/94\n",
      "2/2 [==============================] - 0s 47ms/step - loss: 0.1760 - accuracy: 0.9524 - val_loss: 1.3853 - val_accuracy: 0.5926\n",
      "Epoch 44/94\n",
      "2/2 [==============================] - 0s 48ms/step - loss: 0.1626 - accuracy: 0.9524 - val_loss: 1.3320 - val_accuracy: 0.6296\n",
      "Epoch 45/94\n",
      "2/2 [==============================] - 0s 46ms/step - loss: 0.1419 - accuracy: 0.9619 - val_loss: 1.3378 - val_accuracy: 0.6667\n",
      "Epoch 46/94\n",
      "2/2 [==============================] - 0s 48ms/step - loss: 0.1372 - accuracy: 0.9619 - val_loss: 1.2770 - val_accuracy: 0.6667\n",
      "Epoch 47/94\n",
      "2/2 [==============================] - 0s 62ms/step - loss: 0.1564 - accuracy: 0.9524 - val_loss: 1.4998 - val_accuracy: 0.6667\n",
      "Epoch 48/94\n",
      "2/2 [==============================] - 0s 36ms/step - loss: 0.2093 - accuracy: 0.9429 - val_loss: 1.5077 - val_accuracy: 0.5926\n",
      "Epoch 49/94\n",
      "2/2 [==============================] - 0s 35ms/step - loss: 0.1420 - accuracy: 0.9714 - val_loss: 1.6583 - val_accuracy: 0.6296\n",
      "Epoch 50/94\n",
      "2/2 [==============================] - 0s 35ms/step - loss: 0.1802 - accuracy: 0.9619 - val_loss: 1.8136 - val_accuracy: 0.5926\n",
      "Epoch 51/94\n",
      "2/2 [==============================] - 0s 40ms/step - loss: 0.1447 - accuracy: 0.9619 - val_loss: 1.6717 - val_accuracy: 0.6667\n",
      "Epoch 52/94\n",
      "2/2 [==============================] - 0s 31ms/step - loss: 0.1292 - accuracy: 0.9714 - val_loss: 1.5252 - val_accuracy: 0.5926\n",
      "Epoch 53/94\n",
      "2/2 [==============================] - 0s 36ms/step - loss: 0.1282 - accuracy: 0.9619 - val_loss: 1.4808 - val_accuracy: 0.5926\n",
      "Epoch 54/94\n",
      "2/2 [==============================] - 0s 39ms/step - loss: 0.1045 - accuracy: 0.9810 - val_loss: 1.6337 - val_accuracy: 0.5926\n",
      "Epoch 55/94\n",
      "2/2 [==============================] - 0s 37ms/step - loss: 0.0867 - accuracy: 0.9810 - val_loss: 1.7196 - val_accuracy: 0.5926\n",
      "Epoch 56/94\n",
      "2/2 [==============================] - 0s 38ms/step - loss: 0.1074 - accuracy: 0.9714 - val_loss: 1.6913 - val_accuracy: 0.6296\n",
      "Epoch 57/94\n",
      "2/2 [==============================] - 0s 29ms/step - loss: 0.1013 - accuracy: 0.9714 - val_loss: 1.6709 - val_accuracy: 0.6296\n",
      "Epoch 58/94\n",
      "2/2 [==============================] - 0s 37ms/step - loss: 0.0776 - accuracy: 0.9714 - val_loss: 1.5994 - val_accuracy: 0.5926\n",
      "Epoch 59/94\n",
      "2/2 [==============================] - 0s 36ms/step - loss: 0.0540 - accuracy: 1.0000 - val_loss: 1.5648 - val_accuracy: 0.5926\n",
      "Epoch 60/94\n",
      "2/2 [==============================] - 0s 33ms/step - loss: 0.0629 - accuracy: 0.9905 - val_loss: 1.6035 - val_accuracy: 0.5926\n",
      "Epoch 61/94\n",
      "2/2 [==============================] - 0s 39ms/step - loss: 0.0637 - accuracy: 0.9810 - val_loss: 1.6567 - val_accuracy: 0.5926\n",
      "Epoch 62/94\n",
      "2/2 [==============================] - 0s 35ms/step - loss: 0.0460 - accuracy: 0.9905 - val_loss: 1.7501 - val_accuracy: 0.6296\n",
      "Epoch 63/94\n",
      "2/2 [==============================] - 0s 41ms/step - loss: 0.0315 - accuracy: 1.0000 - val_loss: 1.7574 - val_accuracy: 0.6667\n",
      "Epoch 64/94\n",
      "2/2 [==============================] - 0s 35ms/step - loss: 0.0612 - accuracy: 0.9810 - val_loss: 1.7085 - val_accuracy: 0.6667\n",
      "Epoch 65/94\n",
      "2/2 [==============================] - 0s 39ms/step - loss: 0.0521 - accuracy: 0.9905 - val_loss: 1.5837 - val_accuracy: 0.6296\n",
      "Epoch 66/94\n",
      "2/2 [==============================] - 0s 30ms/step - loss: 0.0452 - accuracy: 0.9905 - val_loss: 1.7676 - val_accuracy: 0.6296\n",
      "Epoch 67/94\n",
      "2/2 [==============================] - 0s 35ms/step - loss: 0.0801 - accuracy: 0.9810 - val_loss: 1.4853 - val_accuracy: 0.6296\n",
      "Epoch 68/94\n",
      "2/2 [==============================] - 0s 32ms/step - loss: 0.0412 - accuracy: 0.9905 - val_loss: 1.5798 - val_accuracy: 0.6296\n",
      "Epoch 69/94\n",
      "2/2 [==============================] - 0s 34ms/step - loss: 0.0741 - accuracy: 0.9810 - val_loss: 1.6120 - val_accuracy: 0.6667\n",
      "Epoch 70/94\n",
      "2/2 [==============================] - 0s 31ms/step - loss: 0.0279 - accuracy: 1.0000 - val_loss: 1.7221 - val_accuracy: 0.6667\n",
      "Epoch 71/94\n",
      "2/2 [==============================] - 0s 35ms/step - loss: 0.0315 - accuracy: 1.0000 - val_loss: 1.6958 - val_accuracy: 0.6296\n",
      "Epoch 72/94\n",
      "2/2 [==============================] - 0s 34ms/step - loss: 0.0297 - accuracy: 1.0000 - val_loss: 1.6608 - val_accuracy: 0.6667\n",
      "Epoch 73/94\n",
      "2/2 [==============================] - 0s 35ms/step - loss: 0.0356 - accuracy: 1.0000 - val_loss: 1.6138 - val_accuracy: 0.6667\n",
      "Epoch 74/94\n",
      "2/2 [==============================] - 0s 38ms/step - loss: 0.0333 - accuracy: 0.9905 - val_loss: 1.4790 - val_accuracy: 0.6667\n",
      "Epoch 75/94\n",
      "2/2 [==============================] - 0s 72ms/step - loss: 0.0251 - accuracy: 1.0000 - val_loss: 1.3848 - val_accuracy: 0.6296\n",
      "Epoch 76/94\n",
      "2/2 [==============================] - 0s 38ms/step - loss: 0.0219 - accuracy: 1.0000 - val_loss: 1.5293 - val_accuracy: 0.6296\n",
      "Epoch 77/94\n",
      "2/2 [==============================] - 0s 31ms/step - loss: 0.0269 - accuracy: 0.9905 - val_loss: 1.8047 - val_accuracy: 0.6667\n",
      "Epoch 78/94\n",
      "2/2 [==============================] - 0s 36ms/step - loss: 0.0194 - accuracy: 1.0000 - val_loss: 1.9306 - val_accuracy: 0.5926\n",
      "Epoch 79/94\n",
      "2/2 [==============================] - 0s 32ms/step - loss: 0.0288 - accuracy: 1.0000 - val_loss: 1.9628 - val_accuracy: 0.5926\n",
      "Epoch 80/94\n",
      "2/2 [==============================] - 0s 35ms/step - loss: 0.0340 - accuracy: 0.9905 - val_loss: 1.9045 - val_accuracy: 0.5926\n",
      "Epoch 81/94\n",
      "2/2 [==============================] - 0s 39ms/step - loss: 0.0227 - accuracy: 1.0000 - val_loss: 1.8414 - val_accuracy: 0.5926\n",
      "Epoch 82/94\n",
      "2/2 [==============================] - 0s 35ms/step - loss: 0.0151 - accuracy: 1.0000 - val_loss: 1.7605 - val_accuracy: 0.6296\n",
      "Epoch 83/94\n",
      "2/2 [==============================] - 0s 35ms/step - loss: 0.0317 - accuracy: 0.9905 - val_loss: 1.7316 - val_accuracy: 0.6667\n",
      "Epoch 84/94\n",
      "2/2 [==============================] - 0s 41ms/step - loss: 0.0330 - accuracy: 0.9905 - val_loss: 1.8044 - val_accuracy: 0.6296\n",
      "Epoch 85/94\n",
      "2/2 [==============================] - 0s 34ms/step - loss: 0.0143 - accuracy: 1.0000 - val_loss: 2.0902 - val_accuracy: 0.5556\n",
      "Epoch 86/94\n",
      "2/2 [==============================] - 0s 34ms/step - loss: 0.0411 - accuracy: 0.9905 - val_loss: 2.1494 - val_accuracy: 0.5926\n",
      "Epoch 87/94\n",
      "2/2 [==============================] - 0s 34ms/step - loss: 0.0572 - accuracy: 0.9905 - val_loss: 2.1702 - val_accuracy: 0.5926\n",
      "Epoch 88/94\n",
      "2/2 [==============================] - 0s 32ms/step - loss: 0.0218 - accuracy: 0.9905 - val_loss: 1.9401 - val_accuracy: 0.5926\n",
      "Epoch 89/94\n",
      "2/2 [==============================] - 0s 37ms/step - loss: 0.0441 - accuracy: 0.9905 - val_loss: 1.6385 - val_accuracy: 0.6667\n",
      "Epoch 90/94\n",
      "2/2 [==============================] - 0s 34ms/step - loss: 0.0152 - accuracy: 1.0000 - val_loss: 1.6292 - val_accuracy: 0.6667\n",
      "Epoch 91/94\n",
      "2/2 [==============================] - 0s 31ms/step - loss: 0.0297 - accuracy: 0.9905 - val_loss: 1.5474 - val_accuracy: 0.7407\n",
      "Epoch 92/94\n",
      "2/2 [==============================] - 0s 31ms/step - loss: 0.0128 - accuracy: 1.0000 - val_loss: 1.6282 - val_accuracy: 0.7037\n",
      "Epoch 93/94\n",
      "2/2 [==============================] - 0s 32ms/step - loss: 0.0664 - accuracy: 0.9810 - val_loss: 1.5282 - val_accuracy: 0.7407\n",
      "Epoch 94/94\n",
      "2/2 [==============================] - 0s 37ms/step - loss: 0.0425 - accuracy: 0.9905 - val_loss: 1.9781 - val_accuracy: 0.5926\n"
     ]
    }
   ],
   "source": [
    "hist=model.fit(embeddings_matrix_train,y_train,epochs=94,batch_size=64,shuffle=True,validation_split=0.2)"
   ]
  },
  {
   "cell_type": "code",
   "execution_count": null,
   "id": "cd0d0015-ac60-4ebc-988e-7f01c0b4057d",
   "metadata": {},
   "outputs": [],
   "source": []
  },
  {
   "cell_type": "code",
   "execution_count": 90,
   "id": "6f9b2945-ea10-432b-a7cc-7b03a54f19df",
   "metadata": {},
   "outputs": [
    {
     "name": "stdout",
     "output_type": "stream",
     "text": [
      "2/2 [==============================] - 0s 4ms/step - loss: 2.2631 - accuracy: 0.5536\n"
     ]
    },
    {
     "data": {
      "text/plain": [
       "[2.2631256580352783, 0.5535714030265808]"
      ]
     },
     "execution_count": 90,
     "metadata": {},
     "output_type": "execute_result"
    }
   ],
   "source": [
    "model.evaluate(embeddings_matrix_test,y_test)"
   ]
  },
  {
   "cell_type": "code",
   "execution_count": null,
   "id": "f1dcf819-0aa2-4d36-a2d1-81fde533f675",
   "metadata": {},
   "outputs": [],
   "source": []
  },
  {
   "cell_type": "code",
   "execution_count": null,
   "id": "3c27f1c4-430e-4bac-868a-a17258b7f72d",
   "metadata": {},
   "outputs": [],
   "source": []
  },
  {
   "cell_type": "code",
   "execution_count": null,
   "id": "6101dbe3-104d-400f-9353-4497cacbc308",
   "metadata": {},
   "outputs": [],
   "source": []
  }
 ],
 "metadata": {
  "kernelspec": {
   "display_name": "Python 3 (ipykernel)",
   "language": "python",
   "name": "python3"
  },
  "language_info": {
   "codemirror_mode": {
    "name": "ipython",
    "version": 3
   },
   "file_extension": ".py",
   "mimetype": "text/x-python",
   "name": "python",
   "nbconvert_exporter": "python",
   "pygments_lexer": "ipython3",
   "version": "3.9.7"
  }
 },
 "nbformat": 4,
 "nbformat_minor": 5
}
